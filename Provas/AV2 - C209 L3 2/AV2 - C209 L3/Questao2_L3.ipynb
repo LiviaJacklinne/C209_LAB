{
 "cells": [
  {
   "cell_type": "markdown",
   "metadata": {
    "id": "1m31u4BO2PM7"
   },
   "source": [
    "# **Questão 2**\n",
    "\n",
    "## **Instruções**\n",
    "\n",
    "\n",
    "\n",
    "*   Verifique as respostas antes de enviar, veja se elas fazem sentido!\n",
    "*   Lembre-se de salvar frequentemente!\n",
    "*   Não envie apenas o notebook, envie a pasta inteira com as imagens!"
   ]
  },
  {
   "cell_type": "markdown",
   "metadata": {
    "id": "dGL6B4Dt2b7L"
   },
   "source": [
    "# **Formulário**\n",
    "\n",
    "## **Instalar bibliotecas (caso ainda não tenham sido instaladas)**\n",
    "```\n",
    "pip install numpy\n",
    "pip install matplotlib\n",
    "pip install sounddevice\n",
    "pip install moviepy\n",
    "pip install scipy\n",
    "```\n",
    "\n",
    "## **Importações**\n",
    "```\n",
    "import moviepy.editor as mpe\n",
    "import numpy as np\n",
    "import matplotlib.pyplot as plt\n",
    "from scipy.io import wavfile\n",
    "import sounddevice as sd\n",
    "from PIL import Image\n",
    "```\n",
    "\n",
    "## **Códigos**\n",
    "```\n",
    "# Manipulação de imagens\n",
    "img = Image.open('nome.extensão')\n",
    "img = np.array(Image.open('nome.extensão'))\n",
    "img = img[:, :, :3]\n",
    "img_pil = Image.fromarray(img_np)\n",
    "img.save('nome.png')\n",
    "Image.fromarray(img).save('nome_arquivo.extensao')\n",
    "\n",
    "#Manipulação de aúdio\n",
    "fs, data = wavfile.read(\"nome.extensão\")\n",
    "sd.play(data, fs)\n",
    "wavfile.write(\"nome.extensão\", fs, parte)\n",
    "\n",
    "audio = np.zeros(shape = (fs * t, 2), dtype = np.float32)\n",
    "\n",
    "for i in range(fs * t):\n",
    "    audio[i, 0] = np.sin(2 * np.pi * f1 * i / fs)\n",
    "    audio[i, 1] = np.sin(2 * np.pi * f2 * i / fs)\n",
    "\n",
    "#Manipulação de vídeo\n",
    "video = mpe.VideoFileClip(\"nome.extensão\")\n",
    "video.ipython_display(width=480)\n",
    "frame = nome.get_frame(t)\n",
    "frame = nome.get_frame(num/video.fps)\n",
    "part = video.subclip(3,5)\n",
    "parts = mpe.concatenate_videoclips([part_1, part_2, part_3])\n",
    "\n",
    "def invert(frame): #Exemplo de uma função para alterar todos os frames\n",
    "    return (255-frame)\n",
    "video_inverted = video.fl_image(invert)\n",
    "\n",
    "# Histograma\n",
    "plt.bar(range(256), histogram_r, color='red')\n",
    "plt.bar(range(256), histogram_g, color='green')\n",
    "plt.bar(range(256), histogram_b, color='blue')\n",
    "\n",
    "# Detecção de bordas\n",
    "abs_tg_eixo = np.abs(np.diff(img, axis=eixo, append=0))\n",
    "```\n",
    "\n",
    "## **Fórmulas**\n",
    "\n",
    "### **Grayscale**\n",
    "\n",
    "Lightness: $\\frac{max(R,G,B)+min(R,G,B)}{2}$\n",
    "\n",
    "Average: $\\frac{R+G+B}{3}$\n",
    "\n",
    "Luminosity: $0.2126 \\cdot R + 0.7152 \\cdot G + 0.0722 \\cdot B$\n",
    "\n",
    "\n",
    "### **Cor**\n",
    "\n",
    "$$\\begin{bmatrix}\n",
    "    R \\\\ G \\\\ B\n",
    "\\end{bmatrix} = \\begin{bmatrix}\n",
    "    255 \\\\ 255 \\\\ 255\n",
    "\\end{bmatrix} - \\begin{bmatrix}\n",
    "    C \\\\ M \\\\ Y\n",
    "\\end{bmatrix}$$"
   ]
  },
  {
   "cell_type": "markdown",
   "metadata": {
    "id": "BVO2CLsP2fzL"
   },
   "source": [
    "**a)** Carregue o áudio **Roundabout.wav** presente pasta e reproduza-o."
   ]
  },
  {
   "cell_type": "code",
   "execution_count": null,
   "metadata": {
    "id": "daO-BFTN2xdG"
   },
   "outputs": [],
   "source": []
  },
  {
   "cell_type": "markdown",
   "metadata": {
    "id": "DKObX91c3CFu"
   },
   "source": [
    "**b)** Divida o áudio da questão anterior em duas partes. A primeira de 10 até 15 segundos e a segunda de 40 a 45 segundos. Reproduza as duas partes."
   ]
  },
  {
   "cell_type": "code",
   "execution_count": null,
   "metadata": {
    "id": "Ipq3SCI43r_d"
   },
   "outputs": [],
   "source": []
  },
  {
   "cell_type": "markdown",
   "metadata": {
    "id": "3x5lYnfF3uix"
   },
   "source": [
    "**c)** Reproduza a segunda parte 50% mais aguda."
   ]
  },
  {
   "cell_type": "code",
   "execution_count": null,
   "metadata": {
    "id": "EkB3xMaG49v7"
   },
   "outputs": [],
   "source": []
  },
  {
   "cell_type": "markdown",
   "metadata": {
    "id": "0TE0CaQw5ALL"
   },
   "source": [
    "**d)** Exiba os canais de som da primeira parte do áudio obtido na questão **B**."
   ]
  },
  {
   "cell_type": "code",
   "execution_count": null,
   "metadata": {
    "id": "QAtm-6Bi5Jfn"
   },
   "outputs": [],
   "source": []
  },
  {
   "cell_type": "markdown",
   "metadata": {
    "id": "HRiiBNT45Ksq"
   },
   "source": [
    "**e)** Abra o vídeo **\"bigbuckbunny.mp4\"** que se encontra na pasta e mostre-o na tela com widith = 480."
   ]
  },
  {
   "cell_type": "code",
   "execution_count": null,
   "metadata": {
    "id": "_o9Qbe8R5VMt"
   },
   "outputs": [],
   "source": []
  },
  {
   "cell_type": "markdown",
   "metadata": {
    "id": "QAG6f_Rf5o_A"
   },
   "source": [
    "**f)** Crie uma função para espelhar os frames de um vídeo no eixo X."
   ]
  },
  {
   "cell_type": "code",
   "execution_count": null,
   "metadata": {
    "id": "VL4PuUL95ys-"
   },
   "outputs": [],
   "source": []
  },
  {
   "cell_type": "markdown",
   "metadata": {
    "id": "Qerc1y6U581C"
   },
   "source": [
    "**g)** Particione o vídeo da questão **E** em três partes. A primeira de 0 a 2 segundos, a segunda de 2 a 4 segundos e a terceira de 4 segundos até o final."
   ]
  },
  {
   "cell_type": "code",
   "execution_count": null,
   "metadata": {
    "id": "VMKvtmCb6br7"
   },
   "outputs": [],
   "source": []
  },
  {
   "cell_type": "markdown",
   "metadata": {
    "id": "uVS0RP8V6hRD"
   },
   "source": [
    "**h)** Concatene as três partes da questão anterior em um uníco vídeo da seguinte forma: a primeira parte deve ser covertida para CMY e na segunda deve ser aplicada a função criada na questão **F**. Não deve ser aplicada nenhuma função na terceira parte. Exiba o resultado obtido com width = 480.\n"
   ]
  },
  {
   "cell_type": "code",
   "execution_count": null,
   "metadata": {
    "id": "tVdDAH-f6_DW"
   },
   "outputs": [],
   "source": []
  }
 ],
 "metadata": {
  "colab": {
   "name": "Questao2 L3.ipynb",
   "provenance": []
  },
  "kernelspec": {
   "display_name": "Python 3",
   "language": "python",
   "name": "python3"
  },
  "language_info": {
   "codemirror_mode": {
    "name": "ipython",
    "version": 3
   },
   "file_extension": ".py",
   "mimetype": "text/x-python",
   "name": "python",
   "nbconvert_exporter": "python",
   "pygments_lexer": "ipython3",
   "version": "3.8.5"
  }
 },
 "nbformat": 4,
 "nbformat_minor": 1
}
