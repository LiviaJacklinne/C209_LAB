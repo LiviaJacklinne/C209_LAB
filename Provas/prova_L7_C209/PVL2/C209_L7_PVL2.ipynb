{
 "cells": [
  {
   "cell_type": "markdown",
   "id": "55ac3b6a",
   "metadata": {},
   "source": [
    "# Instruções da prova\n",
    "\n",
    "- O único material que poderá ser consultado é este notebook, consultas à outros materiais ou à internet será considerado cola\n",
    "- Renomear o notebook para C209-PVL2-NOME_SOBRENOME_MATRICULA"
   ]
  },
  {
   "cell_type": "markdown",
   "id": "a0660305",
   "metadata": {},
   "source": [
    "# Parte teórica"
   ]
  },
  {
   "cell_type": "markdown",
   "id": "5580e925",
   "metadata": {},
   "source": [
    "Classifique as afirmações em Verdadeiro ou Falso, justifique as afirmativas falsas"
   ]
  },
  {
   "cell_type": "markdown",
   "id": "4700d58a",
   "metadata": {},
   "source": [
    "1 - A compressão do tipo JPEG tem o enfoque em tirar de uma imagem suas **componentes de crominância** já que crominância é um fator muito perceptível para o ser humano."
   ]
  },
  {
   "cell_type": "code",
   "execution_count": null,
   "id": "b08ce40b",
   "metadata": {},
   "outputs": [],
   "source": []
  },
  {
   "cell_type": "markdown",
   "id": "ae9b6a4a",
   "metadata": {},
   "source": [
    "2 - É correto afirmar que o código abaixo irá reproduzir um **áudio mais grave** que sua versão original:\n",
    "\n",
    "```python \n",
    "sd.play(audio, 2*fs)\n",
    "```"
   ]
  },
  {
   "cell_type": "code",
   "execution_count": null,
   "id": "dfffd486",
   "metadata": {},
   "outputs": [],
   "source": []
  },
  {
   "cell_type": "markdown",
   "id": "14357358",
   "metadata": {},
   "source": [
    "3 - Arquivos de formato **RAW** se caracterizam por serem **muito pesados** em questão de armazenamento uma vez que não apresentam praticamente **nenhuma compressão**."
   ]
  },
  {
   "cell_type": "code",
   "execution_count": null,
   "id": "12de42cb",
   "metadata": {},
   "outputs": [],
   "source": []
  },
  {
   "cell_type": "markdown",
   "id": "20537143",
   "metadata": {},
   "source": [
    "4 - A compressão de dados **Huffman** consiste em calcular a **probabilidade de uma cor aparecer em uma imagem** e a partir disso determinar códigos com **peso menor** que representem as **imagems com probabilidade maior** de aparecer."
   ]
  },
  {
   "cell_type": "code",
   "execution_count": null,
   "id": "7c3ec476",
   "metadata": {},
   "outputs": [],
   "source": []
  },
  {
   "cell_type": "markdown",
   "id": "3786a374",
   "metadata": {},
   "source": [
    "5 - A compressão do tipo **Fractal** consiste em separar a imagem em blocos de mesmo tamanho (ex: 5x5, 8x8), e tornar esses blocos homogêneos, repetindo um mesmo valor de cor para todos os pixels desse bloco."
   ]
  },
  {
   "cell_type": "code",
   "execution_count": null,
   "id": "403d88d6",
   "metadata": {},
   "outputs": [],
   "source": []
  },
  {
   "cell_type": "markdown",
   "id": "9103382c",
   "metadata": {},
   "source": [
    "# Parte prática"
   ]
  },
  {
   "cell_type": "markdown",
   "id": "b6a3ca34",
   "metadata": {},
   "source": [
    "## Material de apoio"
   ]
  },
  {
   "cell_type": "markdown",
   "id": "6cf5d08a",
   "metadata": {},
   "source": [
    "### Importações\n",
    "\n",
    "```python\n",
    "    import moviepy.editor as mpe\n",
    "    import numpy as np\n",
    "    import matplotlib.pyplot as plt\n",
    "```\n",
    "\n",
    "\n",
    "### Manipulação de imagens\n",
    "\n",
    "```python\n",
    "    (l,c,p) = img.shape\n",
    "    plt.imshow(imagem)\n",
    "```\n",
    "\n",
    "### Forçando uma imagem de uma página para 3 páginas\n",
    "```python\n",
    "    imagem_3p = np.zeros(shape=(l,c,p),dtype=np.uint8)\n",
    "    imagem_3p[:,:, 0] = imagem_1p\n",
    "    imagem_3p[:,:, 1] = imagem_1p\n",
    "    imagem_3p[:,:, 2] = imagem_1p\n",
    "```\n",
    "\n",
    "### Detecção de bordas\n",
    "```python\n",
    "    imagem_grey = np.average(frame, axis=2).astype(np.float64)\n",
    "   \n",
    "    abs_tg_c = np.abs(np.diff(imagem_grey.astype(np.float64), axis=0, append=255))\n",
    "    abs_tg_l = np.abs(np.diff(imagem_grey.astype(np.float64), axis=1, append=255))\n",
    "    abs_tg = np.sqrt(abs_tg_c ** 2 + abs_tg_l ** 2)\n",
    "\n",
    "    imagem_border = np.zeros(shape=(l, c), dtype=np.uint8)\n",
    "    imagem_border[abs_tg > threshold] = 255\n",
    "```\n",
    "\n",
    "### Manipulação de vídeo\n",
    "```python\n",
    "    video = mpe.VideoFileClip(\"video.mp4\")\n",
    "    frame = video.get_frame(2 / video.fps)\n",
    "    frame = video.get_frame(2)\n",
    "    video.ipython_display(width=480)\n",
    "    video_modificado = video.fl_image(func_modificar)\n",
    "    subclip = video.subclip(0,2)\n",
    "    subclip = video.subclip(3)\n",
    "    parts = mpe.concatenate_videoclips([part1, part])\n",
    "    video.write_videofile('video.mp4')\n",
    "```\n",
    "\n",
    "### Tintura\n",
    "\n",
    "```python\n",
    "    grayscale = np.average(image, axis=2)\n",
    "    tinted = np.zeros(shape=image.shape, dtype=np.uint8)\n",
    "\n",
    "    # laranja em RGB: (255, 127, 0)\n",
    "    tinted[:, :, 0] = grayscale * (255 / 255)\n",
    "    # escala verde em 127 / 255 ~= 0.5\n",
    "    tinted[:, :, 1] = grayscale * (127 / 255)\n",
    "    # escala azul em 0 / 255 = 0\n",
    "    tinted[:, :, 2] = grayscale * (  0 / 255)\n",
    "```\n",
    "\n",
    "### Grayscale\n",
    "\n",
    "#### Algoritmo genérico, substituir o método escolhido\n",
    "```python\n",
    "    img_avg = np.zeros(shape=(l, c), dtype=np.uint8)\n",
    "    for i in range(l):\n",
    "        for j in range(c):\n",
    "            r = float(img_np[i, j, 0])\n",
    "            g = float(img_np[i, j, 1])\n",
    "            b = float(img_np[i, j, 2])\n",
    "\n",
    "            img_avg[i, j] = (aplicar método)\n",
    "```\n",
    "\n",
    "#### Métodos: \n",
    "\n",
    "Lightness: $\\frac{max(R,G,B)+min(R,G,B)}{2}$\n",
    "\n",
    "Average: $\\frac{R+G+B}{3}$\n",
    "\n",
    "Luminosity: $0.2126 \\cdot R + 0.7152 \\cdot G + 0.0722 \\cdot B$\n",
    "\n",
    "#### Utilizando o numpy:\n",
    "\n",
    "Avarage: \n",
    "```python\n",
    "gray = np.average(img,axis=2)\n",
    "```\n",
    "\n",
    "Luminosity: \n",
    "```python\n",
    "gray = ((0.2126 * img[:, :, 0]) + (0.7152 * img[:, :, 1]) + (0.0722 * img[:, :, 2])).astype(np.uint8)\n",
    "```"
   ]
  },
  {
   "cell_type": "markdown",
   "id": "92bec7a3",
   "metadata": {},
   "source": [
    "**1 -** Importe as bibliotecas que serão usadas"
   ]
  },
  {
   "cell_type": "code",
   "execution_count": null,
   "id": "edc4b98e",
   "metadata": {},
   "outputs": [],
   "source": []
  },
  {
   "cell_type": "markdown",
   "id": "5cc67ca6",
   "metadata": {},
   "source": [
    "**2** - Abra o vídeo **\"copa.mp4\"**, selecione o **frame de índice 4** e o exiba."
   ]
  },
  {
   "cell_type": "code",
   "execution_count": null,
   "id": "1d27f9fa",
   "metadata": {},
   "outputs": [],
   "source": []
  },
  {
   "cell_type": "markdown",
   "id": "f2391742",
   "metadata": {},
   "source": [
    "**3 -** Crie uma função que receba **uma imagem e retorne essa imagem em escala de cinza**, faça as alterações necessárias para que a imagem **retornada tenha 3 páginas e não apenas 1**. Aplique essa função no frame selecionado na questão anterior e **mostre o resultado**."
   ]
  },
  {
   "cell_type": "code",
   "execution_count": null,
   "id": "fded2a8b",
   "metadata": {},
   "outputs": [],
   "source": []
  },
  {
   "cell_type": "markdown",
   "id": "40171611",
   "metadata": {},
   "source": [
    "**4 -** Crie uma função que receba **uma imagem como parâmetro** e realize a operação de **tintura com a cor RGB(34,214,55)**, e retorne essa imagem com tintura. Aplique essa função no frame selecionado na questão 2 e **mostre o resultado**."
   ]
  },
  {
   "cell_type": "code",
   "execution_count": null,
   "id": "fa38f42b",
   "metadata": {},
   "outputs": [],
   "source": []
  },
  {
   "cell_type": "markdown",
   "id": "10f16502",
   "metadata": {},
   "source": [
    "**5 -** Crie uma função que r**eceba uma imagem como parâmetro** e **retorne sua versão com as bordas detectadas**, com **threshold de 8**. Aplique essa função no frame selecionado na questão 2 e **mostre o resultado**."
   ]
  },
  {
   "cell_type": "code",
   "execution_count": null,
   "id": "7bfe89e2",
   "metadata": {},
   "outputs": [],
   "source": []
  },
  {
   "cell_type": "markdown",
   "id": "5e774feb",
   "metadata": {},
   "source": [
    "**6 -** Particione o vídeo em **subclips e aplique as funções** acima da seguinte forma:\n",
    "- 0s a 3s: Detecção de bordas\n",
    "- 3s as 5s: Tintura\n",
    "- 5s até o final: Escala de cinza\n",
    "\n",
    "**Em seguida junte esses 3 trechos em um único vídeo, exiba o resultado final**."
   ]
  },
  {
   "cell_type": "code",
   "execution_count": null,
   "id": "1e78f50b",
   "metadata": {},
   "outputs": [],
   "source": []
  },
  {
   "cell_type": "markdown",
   "id": "66258441",
   "metadata": {},
   "source": [
    "**7 -** **Salve o vídeo resultante da operação anterior** no disco com o nome \"resultado.mp4\""
   ]
  },
  {
   "cell_type": "code",
   "execution_count": null,
   "id": "91eb824f",
   "metadata": {},
   "outputs": [],
   "source": []
  }
 ],
 "metadata": {
  "kernelspec": {
   "display_name": "Python 3 (ipykernel)",
   "language": "python",
   "name": "python3"
  },
  "language_info": {
   "codemirror_mode": {
    "name": "ipython",
    "version": 3
   },
   "file_extension": ".py",
   "mimetype": "text/x-python",
   "name": "python",
   "nbconvert_exporter": "python",
   "pygments_lexer": "ipython3",
   "version": "3.9.7"
  }
 },
 "nbformat": 4,
 "nbformat_minor": 5
}
